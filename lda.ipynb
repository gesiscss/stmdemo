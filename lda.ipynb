{
 "cells": [
  {
   "cell_type": "markdown",
   "metadata": {},
   "source": [
    "# Mixed Membership Clustering for Text\n",
    "## Latent Dirichlet allocation (LDA)\n",
    "We begin by loading the required libraries "
   ]
  },
  {
   "cell_type": "code",
   "execution_count": null,
   "metadata": {},
   "outputs": [],
   "source": [
    "require(quanteda)\n",
    "require(topicmodels)\n",
    "require(\"reshape2\")\n",
    "require(\"ggplot2\")\n",
    "set.seed(1)"
   ]
  },
  {
   "cell_type": "markdown",
   "metadata": {},
   "source": [
    "and continue with the corpus in form of a document-term matrix (DMT) \n",
    "\n",
    "![alt text](data/dtm.png \"DTM\")"
   ]
  },
  {
   "cell_type": "code",
   "execution_count": null,
   "metadata": {},
   "outputs": [],
   "source": [
    "load(\"data/DTM.2.RData\")\n",
    "dtm <- convert(DTM.2, to = \"topicmodels\")"
   ]
  },
  {
   "cell_type": "markdown",
   "metadata": {},
   "source": [
    "Parameter estimation can take some time, depending on the size of the vocabulary, the number of documents and the setting of K"
   ]
  },
  {
   "cell_type": "code",
   "execution_count": null,
   "metadata": {},
   "outputs": [],
   "source": [
    "lda <- LDA(dtm, k = 5, method=\"Gibbs\", control=list(iter = 100, verbose = 20, alpha = 0.2, estimate.beta = TRUE))"
   ]
  },
  {
   "cell_type": "code",
   "execution_count": null,
   "metadata": {},
   "outputs": [],
   "source": []
  },
  {
   "cell_type": "markdown",
   "metadata": {},
   "source": [
    "We can then inspect the the estimated parameters and use to display the respective distributions for $\\phi$ and $\\theta$"
   ]
  },
  {
   "cell_type": "code",
   "execution_count": null,
   "metadata": {},
   "outputs": [],
   "source": [
    "example_ids <- c(1, 2, 3) # select document IDs of interest\n",
    "\n",
    "lda_posterior <- posterior(lda)\n",
    "top5termsPerTopicProb <- lda::top.topic.words(lda_posterior$terms, 5, by.score = T)\n",
    "topicProportionExamples <- lda_posterior$topics[example_ids, ]\n",
    "colnames(topicProportionExamples) <- apply(top5termsPerTopicProb, 2, paste, collapse = \" \")\n",
    "\n",
    "vizDataFrame <- melt(data = cbind(data.frame(topicProportionExamples), document = docvars(DTM.2[example_ids])$docname), \n",
    "                     variable.name = \"topic\", \n",
    "                     id.vars = \"document\")\n",
    "\n",
    "ggplot(data = vizDataFrame, aes(x = topic, y = value, fill = document), ylab = \"proportion\") +\n",
    "  geom_bar(stat = \"identity\", position = \"stack\") +\n",
    "  theme(axis.text.x = element_text(angle = 90, hjust = 1), legend.position=\"none\") +  \n",
    "  coord_flip() + facet_wrap(~document, ncol = length(example_ids))"
   ]
  },
  {
   "cell_type": "markdown",
   "metadata": {},
   "source": [
    "For further information have a look at the *topicmodels* [vignette](https://cran.r-project.org/web/packages/topicmodels/vignettes/topicmodels.pdf) as well as [T. Griffiths and M. Steyvers, 2004](http://psiexp.ss.uci.edu/research/papers/sciencetopics.pdf). "
   ]
  }
 ],
 "metadata": {
  "kernelspec": {
   "display_name": "R",
   "language": "R",
   "name": "ir"
  },
  "language_info": {
   "codemirror_mode": "r",
   "file_extension": ".r",
   "mimetype": "text/x-r-source",
   "name": "R",
   "pygments_lexer": "r",
   "version": "3.6.2"
  }
 },
 "nbformat": 4,
 "nbformat_minor": 2
}
