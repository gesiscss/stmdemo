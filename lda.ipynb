{
 "cells": [
  {
   "cell_type": "markdown",
   "metadata": {},
   "source": [
    "# Mixed Membership Modelling for Text\n",
    "## Latent Dirichlet allocation (LDA)\n",
    "We begin by loading the required libraries "
   ]
  },
  {
   "cell_type": "code",
   "execution_count": null,
   "metadata": {},
   "outputs": [],
   "source": [
    "require(quanteda)\n",
    "require(topicmodels)\n",
    "source(\"util.R\")\n",
    "set.seed(1)"
   ]
  },
  {
   "cell_type": "markdown",
   "metadata": {},
   "source": [
    "and continue with the corpus in form of a [document-term matrix](https://en.wikipedia.org/wiki/Document-term_matrix) (DMT) \n",
    "\n",
    "![alt text](data/dtm.png \"DTM\")"
   ]
  },
  {
   "cell_type": "code",
   "execution_count": null,
   "metadata": {},
   "outputs": [],
   "source": [
    "load(\"data/DTM.2.RData\")\n",
    "dtm <- convert(DTM.2, to = \"topicmodels\")"
   ]
  },
  {
   "cell_type": "markdown",
   "metadata": {},
   "source": [
    "Parameter estimation can take some time, depending on the size of the vocabulary, the number of documents and the setting of K"
   ]
  },
  {
   "cell_type": "code",
   "execution_count": null,
   "metadata": {},
   "outputs": [],
   "source": [
    "lda <- LDA(dtm, k = 5, method=\"Gibbs\", control=list(iter = 100, verbose = 20, alpha = 0.2, estimate.beta = TRUE))"
   ]
  },
  {
   "cell_type": "markdown",
   "metadata": {},
   "source": [
    "We can then inspect the the estimated parameters and use to display the respective distributions for $\\phi$ and $\\theta$"
   ]
  },
  {
   "cell_type": "code",
   "execution_count": null,
   "metadata": {},
   "outputs": [],
   "source": [
    "plottopics(example_ids = c(1, 2, 3))"
   ]
  },
  {
   "cell_type": "markdown",
   "metadata": {},
   "source": [
    "For further information have a look at the *topicmodels* [vignette](https://cran.r-project.org/web/packages/topicmodels/vignettes/topicmodels.pdf) as well as [T. Griffiths and M. Steyvers, 2004](http://psiexp.ss.uci.edu/research/papers/sciencetopics.pdf). "
   ]
  }
 ],
 "metadata": {
  "kernelspec": {
   "display_name": "R",
   "language": "R",
   "name": "ir"
  },
  "language_info": {
   "codemirror_mode": "r",
   "file_extension": ".r",
   "mimetype": "text/x-r-source",
   "name": "R",
   "pygments_lexer": "r",
   "version": "3.6.3"
  }
 },
 "nbformat": 4,
 "nbformat_minor": 4
}
